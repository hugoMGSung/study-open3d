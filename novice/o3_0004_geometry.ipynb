{
 "cells": [
  {
   "cell_type": "markdown",
   "metadata": {},
   "source": [
    "### Point cloud\n",
    "\n",
    "#### Visualize point cloud\n",
    "- The first part of the tutorial reads a point cloud and visualizes it."
   ]
  },
  {
   "cell_type": "code",
   "execution_count": 1,
   "metadata": {},
   "outputs": [
    {
     "name": "stdout",
     "output_type": "stream",
     "text": [
      "Jupyter environment detected. Enabling Open3D WebVisualizer.\n",
      "[Open3D INFO] WebRTC GUI backend enabled.\n",
      "[Open3D INFO] WebRTCWindowSystem: HTTP handshake server disabled.\n"
     ]
    }
   ],
   "source": [
    "import open3d as o3d\n",
    "import numpy as np\n",
    "import matplotlib.pyplot as plt\n",
    "import os\n",
    "import sys"
   ]
  },
  {
   "cell_type": "code",
   "execution_count": 2,
   "metadata": {},
   "outputs": [
    {
     "name": "stdout",
     "output_type": "stream",
     "text": [
      "Load a ply point cloud, print it, and render it\n",
      "PointCloud with 196133 points.\n",
      "[[0.65234375 0.84686458 2.37890625]\n",
      " [0.65234375 0.83984375 2.38430572]\n",
      " [0.66737998 0.83984375 2.37890625]\n",
      " ...\n",
      " [2.00839925 2.39453125 1.88671875]\n",
      " [2.00390625 2.39488506 1.88671875]\n",
      " [2.00390625 2.39453125 1.88793314]]\n"
     ]
    }
   ],
   "source": [
    "print(\"Load a ply point cloud, print it, and render it\")\n",
    "ply_point_cloud = o3d.data.PLYPointCloud()\n",
    "pcd = o3d.io.read_point_cloud(ply_point_cloud.path)\n",
    "print(pcd)\n",
    "print(np.asarray(pcd.points))\n",
    "# o3d.visualization.draw_geometries([pcd],\n",
    "#                                   zoom=0.3412,\n",
    "#                                   front=[0.4257, -0.2125, -0.8795],\n",
    "#                                   lookat=[2.6172, 2.0475, 1.532],\n",
    "#                                   up=[-0.0694, -0.9768, 0.2024])\n",
    "\n",
    "o3d.visualization.draw_geometries([pcd])"
   ]
  },
  {
   "cell_type": "markdown",
   "metadata": {},
   "source": [
    "#### Voxel downsampling"
   ]
  },
  {
   "cell_type": "code",
   "execution_count": 4,
   "metadata": {},
   "outputs": [
    {
     "name": "stdout",
     "output_type": "stream",
     "text": [
      "Downsample the point cloud with a voxel of 0.05\n"
     ]
    }
   ],
   "source": [
    "print(\"Downsample the point cloud with a voxel of 0.05\")\n",
    "downpcd = pcd.voxel_down_sample(voxel_size=0.05)\n",
    "# o3d.visualization.draw_geometries([downpcd],\n",
    "#                                   zoom=0.3412,\n",
    "#                                   front=[0.4257, -0.2125, -0.8795],\n",
    "#                                   lookat=[2.6172, 2.0475, 1.532],\n",
    "#                                   up=[-0.0694, -0.9768, 0.2024])\n",
    "\n",
    "o3d.visualization.draw_geometries([downpcd])"
   ]
  },
  {
   "cell_type": "markdown",
   "metadata": {},
   "source": [
    "#### Vertex normal estimation"
   ]
  },
  {
   "cell_type": "code",
   "execution_count": 5,
   "metadata": {},
   "outputs": [
    {
     "name": "stdout",
     "output_type": "stream",
     "text": [
      "Recompute the normal of the downsampled point cloud\n",
      "[Open3D WARNING] GLFW Error: WGL: Failed to make context current: 핸들이 잘못되었습니다. \n"
     ]
    }
   ],
   "source": [
    "print(\"Recompute the normal of the downsampled point cloud\")\n",
    "downpcd.estimate_normals(\n",
    "    search_param=o3d.geometry.KDTreeSearchParamHybrid(radius=0.1, max_nn=30))\n",
    "# o3d.visualization.draw_geometries([downpcd],\n",
    "#                                   zoom=0.3412,\n",
    "#                                   front=[0.4257, -0.2125, -0.8795],\n",
    "#                                   lookat=[2.6172, 2.0475, 1.532],\n",
    "#                                   up=[-0.0694, -0.9768, 0.2024],\n",
    "#                                   point_show_normal=True)\n",
    "o3d.visualization.draw_geometries([downpcd],\n",
    "                                  point_show_normal=True)"
   ]
  },
  {
   "cell_type": "markdown",
   "metadata": {},
   "source": [
    "#### Access estimated vertex normal"
   ]
  },
  {
   "cell_type": "code",
   "execution_count": 6,
   "metadata": {},
   "outputs": [
    {
     "name": "stdout",
     "output_type": "stream",
     "text": [
      "Print a normal vector of the 0th point\n",
      "[ 0.85641574  0.01693013 -0.51600915]\n"
     ]
    }
   ],
   "source": [
    "print(\"Print a normal vector of the 0th point\")\n",
    "print(downpcd.normals[0])"
   ]
  },
  {
   "cell_type": "code",
   "execution_count": 7,
   "metadata": {},
   "outputs": [
    {
     "name": "stdout",
     "output_type": "stream",
     "text": [
      "Print the normal vectors of the first 10 points\n",
      "[[ 8.56415744e-01  1.69301342e-02 -5.16009150e-01]\n",
      " [-3.10071169e-01  3.92564590e-02 -9.49902522e-01]\n",
      " [-2.21066308e-01  2.07235365e-07 -9.75258780e-01]\n",
      " [-2.65577574e-01 -1.84601949e-01 -9.46250851e-01]\n",
      " [-7.91944115e-01 -2.92017206e-02 -6.09894891e-01]\n",
      " [-8.84912237e-02 -9.89400811e-01  1.15131831e-01]\n",
      " [ 6.28492508e-01 -6.12988948e-01 -4.78791935e-01]\n",
      " [ 7.28260110e-01 -4.73518839e-01 -4.95395924e-01]\n",
      " [-5.07368635e-03 -9.99572767e-01 -2.87844085e-02]\n",
      " [ 3.49295119e-01  1.16948013e-02 -9.36939780e-01]]\n"
     ]
    }
   ],
   "source": [
    "print(\"Print the normal vectors of the first 10 points\")\n",
    "print(np.asarray(downpcd.normals)[:10, :])"
   ]
  },
  {
   "cell_type": "markdown",
   "metadata": {},
   "source": [
    "#### Crop point cloud"
   ]
  },
  {
   "cell_type": "code",
   "execution_count": 3,
   "metadata": {},
   "outputs": [
    {
     "name": "stdout",
     "output_type": "stream",
     "text": [
      "Load a polygon volume and use it to crop the original point cloud\n"
     ]
    }
   ],
   "source": [
    "print(\"Load a polygon volume and use it to crop the original point cloud\")\n",
    "demo_crop_data = o3d.data.DemoCropPointCloud()\n",
    "pcd = o3d.io.read_point_cloud(demo_crop_data.point_cloud_path)\n",
    "vol = o3d.visualization.read_selection_polygon_volume(demo_crop_data.cropped_json_path)\n",
    "chair = vol.crop_point_cloud(pcd)\n",
    "# o3d.visualization.draw_geometries([chair],\n",
    "#                                   zoom=0.7,\n",
    "#                                   front=[0.5439, -0.2333, -0.8060],\n",
    "#                                   lookat=[2.4615, 2.1331, 1.338],\n",
    "#                                   up=[-0.1781, -0.9708, 0.1608])\n",
    "o3d.visualization.draw_geometries([chair])"
   ]
  },
  {
   "cell_type": "markdown",
   "metadata": {},
   "source": [
    "#### Paint point cloud"
   ]
  },
  {
   "cell_type": "code",
   "execution_count": null,
   "metadata": {},
   "outputs": [
    {
     "ename": "",
     "evalue": "",
     "output_type": "error",
     "traceback": [
      "\u001b[1;31m현재 셀 또는 이전 셀에서 코드를 실행하는 동안 Kernel이 충돌했습니다. \n",
      "\u001b[1;31m셀의 코드를 검토하여 가능한 오류 원인을 식별하세요. \n",
      "\u001b[1;31m자세한 내용을 보려면 <a href='https://aka.ms/vscodeJupyterKernelCrash'>여기</a>를 클릭하세요. \n",
      "\u001b[1;31m자세한 내용은 Jupyter <a href='command:jupyter.viewOutput'>로그</a>를 참조하세요."
     ]
    }
   ],
   "source": [
    "## 오류! 안됨!!\n",
    "print(\"Paint chair\")\n",
    "chair.paint_uniform_color([1, 0.706, 0])\n",
    "# o3d.visualization.draw_geometries([chair],\n",
    "#                                   zoom=0.7,\n",
    "#                                   front=[0.5439, -0.2333, -0.8060],\n",
    "#                                   lookat=[2.4615, 2.1331, 1.338],\n",
    "#                                   up=[-0.1781, -0.9708, 0.1608])\n",
    "o3d.visualization.draw_geometries([chair])"
   ]
  },
  {
   "cell_type": "markdown",
   "metadata": {},
   "source": [
    "#### Point cloud distance"
   ]
  },
  {
   "cell_type": "code",
   "execution_count": 4,
   "metadata": {},
   "outputs": [
    {
     "name": "stdout",
     "output_type": "stream",
     "text": [
      "[Open3D WARNING] GLFW Error: WGL: Failed to make context current: 요청한 변환 작업을 지원할 수 없습니다. \n"
     ]
    }
   ],
   "source": [
    "# Load data\n",
    "demo_crop_data = o3d.data.DemoCropPointCloud()\n",
    "pcd = o3d.io.read_point_cloud(demo_crop_data.point_cloud_path)\n",
    "vol = o3d.visualization.read_selection_polygon_volume(demo_crop_data.cropped_json_path)\n",
    "chair = vol.crop_point_cloud(pcd)\n",
    "\n",
    "dists = pcd.compute_point_cloud_distance(chair)\n",
    "dists = np.asarray(dists)\n",
    "ind = np.where(dists > 0.01)[0]\n",
    "pcd_without_chair = pcd.select_by_index(ind)\n",
    "# o3d.visualization.draw_geometries([pcd_without_chair],\n",
    "#                                   zoom=0.3412,\n",
    "#                                   front=[0.4257, -0.2125, -0.8795],\n",
    "#                                   lookat=[2.6172, 2.0475, 1.532],\n",
    "#                                   up=[-0.0694, -0.9768, 0.2024])\n",
    "o3d.visualization.draw_geometries([pcd_without_chair])"
   ]
  },
  {
   "cell_type": "markdown",
   "metadata": {},
   "source": [
    "#### Bounding volumes"
   ]
  },
  {
   "cell_type": "code",
   "execution_count": null,
   "metadata": {},
   "outputs": [
    {
     "ename": "",
     "evalue": "",
     "output_type": "error",
     "traceback": [
      "\u001b[1;31m현재 셀 또는 이전 셀에서 코드를 실행하는 동안 Kernel이 충돌했습니다. \n",
      "\u001b[1;31m셀의 코드를 검토하여 가능한 오류 원인을 식별하세요. \n",
      "\u001b[1;31m자세한 내용을 보려면 <a href='https://aka.ms/vscodeJupyterKernelCrash'>여기</a>를 클릭하세요. \n",
      "\u001b[1;31m자세한 내용은 Jupyter <a href='command:jupyter.viewOutput'>로그</a>를 참조하세요."
     ]
    }
   ],
   "source": [
    "## 오류! 안됨!!\n",
    "aabb = chair.get_axis_aligned_bounding_box()\n",
    "aabb.color = (1, 0, 0)\n",
    "obb = chair.get_oriented_bounding_box()\n",
    "obb.color = (0, 1, 0)\n",
    "# o3d.visualization.draw_geometries([chair, aabb, obb],\n",
    "#                                   zoom=0.7,\n",
    "#                                   front=[0.5439, -0.2333, -0.8060],\n",
    "#                                   lookat=[2.4615, 2.1331, 1.338],\n",
    "#                                   up=[-0.1781, -0.9708, 0.1608])\n",
    "o3d.visualization.draw_geometries([chair, aabb, obb])"
   ]
  },
  {
   "cell_type": "markdown",
   "metadata": {},
   "source": [
    "#### Convex hull"
   ]
  },
  {
   "cell_type": "code",
   "execution_count": null,
   "metadata": {},
   "outputs": [
    {
     "ename": "",
     "evalue": "",
     "output_type": "error",
     "traceback": [
      "\u001b[1;31m현재 셀 또는 이전 셀에서 코드를 실행하는 동안 Kernel이 충돌했습니다. \n",
      "\u001b[1;31m셀의 코드를 검토하여 가능한 오류 원인을 식별하세요. \n",
      "\u001b[1;31m자세한 내용을 보려면 <a href='https://aka.ms/vscodeJupyterKernelCrash'>여기</a>를 클릭하세요. \n",
      "\u001b[1;31m자세한 내용은 Jupyter <a href='command:jupyter.viewOutput'>로그</a>를 참조하세요."
     ]
    }
   ],
   "source": [
    "## 안됨!!!\n",
    "bunny = o3d.data.BunnyMesh()\n",
    "mesh = o3d.io.read_triangle_mesh(bunny.path)\n",
    "mesh.compute_vertex_normals()\n",
    "\n",
    "pcl = mesh.sample_points_poisson_disk(number_of_points=2000)\n",
    "hull, _ = pcl.compute_convex_hull()\n",
    "hull_ls = o3d.geometry.LineSet.create_from_triangle_mesh(hull)\n",
    "hull_ls.paint_uniform_color((1, 0, 0))\n",
    "o3d.visualization.draw_geometries([pcl, hull_ls])"
   ]
  },
  {
   "cell_type": "markdown",
   "metadata": {},
   "source": [
    "#### DBSCAN clustering"
   ]
  },
  {
   "cell_type": "code",
   "execution_count": 4,
   "metadata": {},
   "outputs": [
    {
     "name": "stdout",
     "output_type": "stream",
     "text": [
      "[Open3D DEBUG] Precompute neighbors.\n",
      "[Open3D DEBUG] Done Precompute neighbors.\n",
      "[Open3D DEBUG] Compute Clusters\n"
     ]
    },
    {
     "ename": "",
     "evalue": "",
     "output_type": "error",
     "traceback": [
      "\u001b[1;31m현재 셀 또는 이전 셀에서 코드를 실행하는 동안 Kernel이 충돌했습니다. \n",
      "\u001b[1;31m셀의 코드를 검토하여 가능한 오류 원인을 식별하세요. \n",
      "\u001b[1;31m자세한 내용을 보려면 <a href='https://aka.ms/vscodeJupyterKernelCrash'>여기</a>를 클릭하세요. \n",
      "\u001b[1;31m자세한 내용은 Jupyter <a href='command:jupyter.viewOutput'>로그</a>를 참조하세요."
     ]
    }
   ],
   "source": [
    "ply_point_cloud = o3d.data.PLYPointCloud()\n",
    "pcd = o3d.io.read_point_cloud(ply_point_cloud.path)\n",
    "\n",
    "with o3d.utility.VerbosityContextManager(\n",
    "        o3d.utility.VerbosityLevel.Debug) as cm:\n",
    "    labels = np.array(\n",
    "        pcd.cluster_dbscan(eps=0.02, min_points=10, print_progress=True))\n",
    "\n",
    "max_label = labels.max()\n",
    "print(f\"point cloud has {max_label + 1} clusters\")\n",
    "colors = plt.get_cmap(\"tab20\")(labels / (max_label if max_label > 0 else 1))\n",
    "colors[labels < 0] = 0\n",
    "pcd.colors = o3d.utility.Vector3dVector(colors[:, :3])\n",
    "# o3d.visualization.draw_geometries([pcd],\n",
    "#                                   zoom=0.455,\n",
    "#                                   front=[-0.4999, -0.1659, -0.8499],\n",
    "#                                   lookat=[2.1813, 2.0619, 2.0999],\n",
    "#                                   up=[0.1204, -0.9852, 0.1215])\n",
    "o3d.visualization.draw_geometries([pcd])"
   ]
  },
  {
   "cell_type": "markdown",
   "metadata": {},
   "source": [
    "#### Plane segmentation"
   ]
  },
  {
   "cell_type": "code",
   "execution_count": 2,
   "metadata": {},
   "outputs": [
    {
     "ename": "",
     "evalue": "",
     "output_type": "error",
     "traceback": [
      "\u001b[1;31m현재 셀 또는 이전 셀에서 코드를 실행하는 동안 Kernel이 충돌했습니다. \n",
      "\u001b[1;31m셀의 코드를 검토하여 가능한 오류 원인을 식별하세요. \n",
      "\u001b[1;31m자세한 내용을 보려면 <a href='https://aka.ms/vscodeJupyterKernelCrash'>여기</a>를 클릭하세요. \n",
      "\u001b[1;31m자세한 내용은 Jupyter <a href='command:jupyter.viewOutput'>로그</a>를 참조하세요."
     ]
    }
   ],
   "source": [
    "pcd_point_cloud = o3d.data.PCDPointCloud()\n",
    "pcd = o3d.io.read_point_cloud(pcd_point_cloud.path)\n",
    "\n",
    "plane_model, inliers = pcd.segment_plane(distance_threshold=0.01,\n",
    "                                         ransac_n=3,\n",
    "                                         num_iterations=1000)\n",
    "[a, b, c, d] = plane_model\n",
    "print(f\"Plane equation: {a:.2f}x + {b:.2f}y + {c:.2f}z + {d:.2f} = 0\")\n",
    "\n",
    "inlier_cloud = pcd.select_by_index(inliers)\n",
    "inlier_cloud.paint_uniform_color([1.0, 0, 0])\n",
    "outlier_cloud = pcd.select_by_index(inliers, invert=True)\n",
    "# o3d.visualization.draw_geometries([inlier_cloud, outlier_cloud],\n",
    "#                                   zoom=0.8,\n",
    "#                                   front=[-0.4999, -0.1659, -0.8499],\n",
    "#                                   lookat=[2.1813, 2.0619, 2.0999],\n",
    "#                                   up=[0.1204, -0.9852, 0.1215])\n",
    "o3d.visualization.draw_geometries([inlier_cloud, outlier_cloud])"
   ]
  },
  {
   "cell_type": "markdown",
   "metadata": {},
   "source": [
    "#### Planar patch detection"
   ]
  },
  {
   "cell_type": "code",
   "execution_count": 3,
   "metadata": {},
   "outputs": [
    {
     "ename": "",
     "evalue": "",
     "output_type": "error",
     "traceback": [
      "\u001b[1;31m현재 셀 또는 이전 셀에서 코드를 실행하는 동안 Kernel이 충돌했습니다. \n",
      "\u001b[1;31m셀의 코드를 검토하여 가능한 오류 원인을 식별하세요. \n",
      "\u001b[1;31m자세한 내용을 보려면 <a href='https://aka.ms/vscodeJupyterKernelCrash'>여기</a>를 클릭하세요. \n",
      "\u001b[1;31m자세한 내용은 Jupyter <a href='command:jupyter.viewOutput'>로그</a>를 참조하세요."
     ]
    }
   ],
   "source": [
    "dataset = o3d.data.PCDPointCloud()\n",
    "pcd = o3d.io.read_point_cloud(dataset.path)\n",
    "assert (pcd.has_normals())\n",
    "\n",
    "# using all defaults\n",
    "oboxes = pcd.detect_planar_patches(\n",
    "    normal_variance_threshold_deg=60,\n",
    "    coplanarity_deg=75,\n",
    "    outlier_ratio=0.75,\n",
    "    min_plane_edge_length=0,\n",
    "    min_num_points=0,\n",
    "    search_param=o3d.geometry.KDTreeSearchParamKNN(knn=30))\n",
    "\n",
    "print(\"Detected {} patches\".format(len(oboxes)))\n",
    "\n",
    "geometries = []\n",
    "for obox in oboxes:\n",
    "    mesh = o3d.geometry.TriangleMesh.create_from_oriented_bounding_box(obox, scale=[1, 1, 0.0001])\n",
    "    mesh.paint_uniform_color(obox.color)\n",
    "    geometries.append(mesh)\n",
    "    geometries.append(obox)\n",
    "geometries.append(pcd)\n",
    "\n",
    "# o3d.visualization.draw_geometries(geometries,\n",
    "#                                   zoom=0.62,\n",
    "#                                   front=[0.4361, -0.2632, -0.8605],\n",
    "#                                   lookat=[2.4947, 1.7728, 1.5541],\n",
    "#                                   up=[-0.1726, -0.9630, 0.2071])\n",
    "o3d.visualization.draw_geometries(geometries)"
   ]
  },
  {
   "cell_type": "markdown",
   "metadata": {},
   "source": [
    "#### Hidden point removal"
   ]
  },
  {
   "cell_type": "code",
   "execution_count": 2,
   "metadata": {},
   "outputs": [
    {
     "name": "stdout",
     "output_type": "stream",
     "text": [
      "Convert mesh to a point cloud and estimate dimensions\n"
     ]
    }
   ],
   "source": [
    "print(\"Convert mesh to a point cloud and estimate dimensions\")\n",
    "armadillo = o3d.data.ArmadilloMesh()\n",
    "mesh = o3d.io.read_triangle_mesh(armadillo.path)\n",
    "mesh.compute_vertex_normals()\n",
    "\n",
    "pcd = mesh.sample_points_poisson_disk(5000)\n",
    "diameter = np.linalg.norm(\n",
    "    np.asarray(pcd.get_max_bound()) - np.asarray(pcd.get_min_bound()))\n",
    "o3d.visualization.draw_geometries([pcd])"
   ]
  },
  {
   "cell_type": "code",
   "execution_count": 3,
   "metadata": {},
   "outputs": [
    {
     "ename": "",
     "evalue": "",
     "output_type": "error",
     "traceback": [
      "\u001b[1;31m현재 셀 또는 이전 셀에서 코드를 실행하는 동안 Kernel이 충돌했습니다. \n",
      "\u001b[1;31m셀의 코드를 검토하여 가능한 오류 원인을 식별하세요. \n",
      "\u001b[1;31m자세한 내용을 보려면 <a href='https://aka.ms/vscodeJupyterKernelCrash'>여기</a>를 클릭하세요. \n",
      "\u001b[1;31m자세한 내용은 Jupyter <a href='command:jupyter.viewOutput'>로그</a>를 참조하세요."
     ]
    }
   ],
   "source": [
    "print(\"Define parameters used for hidden_point_removal\")\n",
    "camera = [0, 0, diameter]\n",
    "radius = diameter * 100\n",
    "\n",
    "print(\"Get all points that are visible from given view point\")\n",
    "_, pt_map = pcd.hidden_point_removal(camera, radius)\n",
    "\n",
    "print(\"Visualize result\")\n",
    "pcd = pcd.select_by_index(pt_map)\n",
    "o3d.visualization.draw_geometries([pcd])"
   ]
  }
 ],
 "metadata": {
  "kernelspec": {
   "display_name": "myenv",
   "language": "python",
   "name": "python3"
  },
  "language_info": {
   "codemirror_mode": {
    "name": "ipython",
    "version": 3
   },
   "file_extension": ".py",
   "mimetype": "text/x-python",
   "name": "python",
   "nbconvert_exporter": "python",
   "pygments_lexer": "ipython3",
   "version": "3.10.10"
  }
 },
 "nbformat": 4,
 "nbformat_minor": 2
}
