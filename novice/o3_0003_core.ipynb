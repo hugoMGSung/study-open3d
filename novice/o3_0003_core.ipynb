{
 "cells": [
  {
   "cell_type": "markdown",
   "metadata": {},
   "source": [
    "#### Tensor"
   ]
  },
  {
   "cell_type": "code",
   "execution_count": 5,
   "metadata": {},
   "outputs": [],
   "source": [
    "import open3d.core as o3c\n",
    "import numpy as np"
   ]
  },
  {
   "cell_type": "code",
   "execution_count": 6,
   "metadata": {},
   "outputs": [
    {
     "data": {
      "text/plain": [
       "open3d.cpu.pybind.core.Device"
      ]
     },
     "execution_count": 6,
     "metadata": {},
     "output_type": "execute_result"
    }
   ],
   "source": [
    "o3c.Device"
   ]
  },
  {
   "cell_type": "code",
   "execution_count": 7,
   "metadata": {},
   "outputs": [
    {
     "name": "stdout",
     "output_type": "stream",
     "text": [
      "BUILD_TENSORFLOW_OPS: False\n",
      "BUILD_PYTORCH_OPS: False\n",
      "BUILD_CUDA_MODULE: False\n",
      "BUILD_SYCL_MODULE: False\n",
      "BUILD_AZURE_KINECT: True\n",
      "BUILD_LIBREALSENSE: True\n",
      "BUILD_SHARED_LIBS: False\n",
      "BUILD_GUI: True\n",
      "ENABLE_HEADLESS_RENDERING: False\n",
      "BUILD_JUPYTER_EXTENSION: True\n",
      "BUNDLE_OPEN3D_ML: False\n",
      "GLIBCXX_USE_CXX11_ABI: True\n",
      "CMAKE_BUILD_TYPE: Release\n",
      "CUDA_VERSION: \n",
      "CUDA_GENCODES: \n",
      "Tensorflow_VERSION: \n",
      "Pytorch_VERSION: \n",
      "WITH_OPENMP: True\n"
     ]
    }
   ],
   "source": [
    "from open3d._build_config import _build_config\n",
    "\n",
    "for k,v in _build_config.items():\n",
    "    print(f\"{k}: {v}\")"
   ]
  },
  {
   "cell_type": "code",
   "execution_count": 9,
   "metadata": {},
   "outputs": [
    {
     "name": "stdout",
     "output_type": "stream",
     "text": [
      "Created from list:\n",
      "[0 1 2]\n",
      "Tensor[shape={3}, stride={1}, Int64, CPU:0, 0x2853b170370]\n",
      "\n",
      "Created from numpy array:\n",
      "[0 1 2]\n",
      "Tensor[shape={3}, stride={1}, Int64, CPU:0, 0x2853b170390]\n",
      "\n",
      "Default dtype and device:\n",
      "[0.0 1.0 2.0]\n",
      "Tensor[shape={3}, stride={1}, Float64, CPU:0, 0x2853b170630]\n",
      "\n",
      "Specified data type:\n",
      "[0.0 1.0 2.0]\n",
      "Tensor[shape={3}, stride={1}, Float64, CPU:0, 0x2853b170fd0]\n",
      "\n",
      "Specified device:\n",
      "[0 1 2]\n",
      "Tensor[shape={3}, stride={1}, Int64, CPU:0, 0x2853b170690]\n"
     ]
    }
   ],
   "source": [
    "# Tensor from list.\n",
    "a = o3c.Tensor([0, 1, 2])\n",
    "print(\"Created from list:\\n{}\".format(a))\n",
    "\n",
    "# Tensor from Numpy.\n",
    "a = o3c.Tensor(np.array([0, 1, 2]))\n",
    "print(\"\\nCreated from numpy array:\\n{}\".format(a))\n",
    "\n",
    "# Dtype and inferred from list.\n",
    "a_float = o3c.Tensor([0.0, 1.0, 2.0])\n",
    "print(\"\\nDefault dtype and device:\\n{}\".format(a_float))\n",
    "\n",
    "# Specify dtype.\n",
    "a = o3c.Tensor(np.array([0, 1, 2]), dtype=o3c.Dtype.Float64)\n",
    "print(\"\\nSpecified data type:\\n{}\".format(a))\n",
    "\n",
    "# Specify device.\n",
    "# a = o3c.Tensor(np.array([0, 1, 2]), device=o3c.Device(\"CUDA:0\"))\n",
    "# print(\"\\nSpecified device:\\n{}\".format(a))\n",
    "a = o3c.Tensor(np.array([0, 1, 2]), device=o3c.Device(\"CPU:0\"))\n",
    "print(\"\\nSpecified device:\\n{}\".format(a))"
   ]
  },
  {
   "cell_type": "code",
   "execution_count": 10,
   "metadata": {},
   "outputs": [
    {
     "name": "stdout",
     "output_type": "stream",
     "text": [
      "Source tensor:\n",
      "[11 2 3]\n",
      "Tensor[shape={3}, stride={1}, Int64, CPU:0, 0x2853b170cf0]\n",
      "\n",
      "Target tensor:\n",
      "[11 2 3]\n",
      "Tensor[shape={3}, stride={1}, Int64, CPU:0, 0x2853b170cf0]\n"
     ]
    }
   ],
   "source": [
    "# Shallow copy constructor.\n",
    "vals = np.array([1, 2, 3])\n",
    "src = o3c.Tensor(vals)\n",
    "dst = src\n",
    "src[0] += 10\n",
    "\n",
    "# Changes in one will get reflected in other.\n",
    "print(\"Source tensor:\\n{}\".format(src))\n",
    "print(\"\\nTarget tensor:\\n{}\".format(dst))"
   ]
  },
  {
   "cell_type": "markdown",
   "metadata": {},
   "source": [
    "#### Properties of a tensor"
   ]
  },
  {
   "cell_type": "code",
   "execution_count": 12,
   "metadata": {},
   "outputs": [
    {
     "name": "stdout",
     "output_type": "stream",
     "text": [
      "a.shape: SizeVector[2, 3, 4]\n",
      "a.strides: SizeVector[12, 4, 1]\n",
      "a.dtype: Float64\n",
      "a.device: CPU:0\n",
      "a.ndim: 3\n"
     ]
    }
   ],
   "source": [
    "vals = np.array((range(24))).reshape(2, 3, 4)\n",
    "# a = o3c.Tensor(vals, dtype=o3c.Dtype.Float64, device=o3c.Device(\"CUDA:0\"))\n",
    "a = o3c.Tensor(vals, dtype=o3c.Dtype.Float64, device=o3c.Device(\"CPU:0\"))\n",
    "print(f\"a.shape: {a.shape}\")\n",
    "print(f\"a.strides: {a.strides}\")\n",
    "print(f\"a.dtype: {a.dtype}\")\n",
    "print(f\"a.device: {a.device}\")\n",
    "print(f\"a.ndim: {a.ndim}\")"
   ]
  },
  {
   "cell_type": "markdown",
   "metadata": {},
   "source": [
    "#### Copy & device transfer"
   ]
  },
  {
   "cell_type": "code",
   "execution_count": 20,
   "metadata": {},
   "outputs": [
    {
     "name": "stdout",
     "output_type": "stream",
     "text": [
      "[0 1 2]\n",
      "Tensor[shape={3}, stride={1}, Int64, CPU:0, 0x2853b171010]\n",
      "[0 1 2]\n",
      "Tensor[shape={3}, stride={1}, Int64, CPU:0, 0x2853b170c50]\n",
      "[0 1 2]\n",
      "Tensor[shape={3}, stride={1}, Int64, CPU:0, 0x2853b170db0]\n"
     ]
    }
   ],
   "source": [
    "# Host -> Device.\n",
    "a_cpu = o3c.Tensor([0, 1, 2])\n",
    "# a_gpu = a_cpu.cuda(0)\n",
    "a_gpu = a_cpu\n",
    "print(a_gpu)\n",
    "\n",
    "# Device -> Host.\n",
    "# a_gpu = o3c.Tensor([0, 1, 2], device=o3c.Device(\"CUDA:0\"))\n",
    "a_gpu = o3c.Tensor([0, 1, 2], device=o3c.Device(\"CPU:0\"))\n",
    "a_cpu = a_gpu.cpu()\n",
    "print(a_cpu)\n",
    "\n",
    "# Device -> another Device.\n",
    "# a_gpu_0 = o3c.Tensor([0, 1, 2], device=o3c.Device(\"CUDA:0\"))\n",
    "a_gpu_0 = o3c.Tensor([0, 1, 2], device=o3c.Device(\"CPU:0\"))\n",
    "# a_gpu_1 = a_gpu_0.cuda(0)\n",
    "a_gpu_1 = a_gpu_0\n",
    "print(a_gpu_1)"
   ]
  },
  {
   "cell_type": "markdown",
   "metadata": {},
   "source": [
    "#### PyTorch I/O with DLPack memory map\n",
    "- PyTorch 설치 필요\n",
    "- 현재의 예제대로면 Open3D의 CUDA와 Pytorch의 CUDA가 호환될 것이나, Open3D GPU 사용불가로 호환 안됨"
   ]
  },
  {
   "cell_type": "code",
   "execution_count": 21,
   "metadata": {},
   "outputs": [
    {
     "name": "stdout",
     "output_type": "stream",
     "text": [
      "nvcc: NVIDIA (R) Cuda compiler driver\n",
      "Copyright (c) 2005-2024 NVIDIA Corporation\n",
      "Built on Thu_Mar_28_02:30:10_Pacific_Daylight_Time_2024\n",
      "Cuda compilation tools, release 12.4, V12.4.131\n",
      "Build cuda_12.4.r12.4/compiler.34097967_0\n"
     ]
    }
   ],
   "source": [
    "!nvcc --version"
   ]
  }
 ],
 "metadata": {
  "kernelspec": {
   "display_name": "myenv",
   "language": "python",
   "name": "python3"
  },
  "language_info": {
   "codemirror_mode": {
    "name": "ipython",
    "version": 3
   },
   "file_extension": ".py",
   "mimetype": "text/x-python",
   "name": "python",
   "nbconvert_exporter": "python",
   "pygments_lexer": "ipython3",
   "version": "3.10.10"
  }
 },
 "nbformat": 4,
 "nbformat_minor": 2
}
